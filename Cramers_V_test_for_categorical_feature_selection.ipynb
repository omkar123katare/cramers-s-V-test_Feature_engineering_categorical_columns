{
  "nbformat": 4,
  "nbformat_minor": 0,
  "metadata": {
    "colab": {
      "name": "Cramers V test for categorical feature selection.ipynb",
      "provenance": [],
      "authorship_tag": "ABX9TyNsjNd3Xd2GbwLJixjOZjmH",
      "include_colab_link": true
    },
    "kernelspec": {
      "name": "python3",
      "display_name": "Python 3"
    },
    "language_info": {
      "name": "python"
    }
  },
  "cells": [
    {
      "cell_type": "markdown",
      "metadata": {
        "id": "view-in-github",
        "colab_type": "text"
      },
      "source": [
        "<a href=\"https://colab.research.google.com/github/omkar123katare/cramers-s-V-test_Feature_engineering_categorical_columns/blob/main/Cramers_V_test_for_categorical_feature_selection.ipynb\" target=\"_parent\"><img src=\"https://colab.research.google.com/assets/colab-badge.svg\" alt=\"Open In Colab\"/></a>"
      ]
    },
    {
      "cell_type": "markdown",
      "source": [
        "**WHAT  -**Cramer's V test gives strength of relationship between two categorical columns. It is like pearson's correlation coefficient for continuous columns."
      ],
      "metadata": {
        "id": "b1ifdRO30iZt"
      }
    },
    {
      "cell_type": "markdown",
      "source": [
        "Cramers V test is an extension of chi2 test."
      ],
      "metadata": {
        "id": "IPbAmooM1CM9"
      }
    },
    {
      "cell_type": "code",
      "execution_count": 45,
      "metadata": {
        "id": "CS6loRyp6yFs"
      },
      "outputs": [],
      "source": [
        "import pandas as pd\n",
        "import numpy as np\n",
        "import matplotlib.pyplot as plt\n",
        "import seaborn as sns"
      ]
    },
    {
      "cell_type": "code",
      "source": [
        "churn_data_master=pd.read_csv('https://raw.githubusercontent.com/srivatsan88/YouTubeLI/master/dataset/churn_data_st.csv')"
      ],
      "metadata": {
        "id": "HaAhZxKY8L4y"
      },
      "execution_count": 46,
      "outputs": []
    },
    {
      "cell_type": "code",
      "source": [
        "churn_data=churn_data_master.copy()"
      ],
      "metadata": {
        "id": "0EcQn-Q78o8Y"
      },
      "execution_count": 47,
      "outputs": []
    },
    {
      "cell_type": "code",
      "source": [
        "churn_data.head()"
      ],
      "metadata": {
        "colab": {
          "base_uri": "https://localhost:8080/",
          "height": 206
        },
        "id": "qfzwk92180Fm",
        "outputId": "3c5417b8-1197-480c-88bd-a568b6f100a6"
      },
      "execution_count": 48,
      "outputs": [
        {
          "output_type": "execute_result",
          "data": {
            "text/plain": [
              "   customerID  gender  SeniorCitizen  tenure  ServiceCount        Contract  \\\n",
              "0  7590-VHVEG  Female              0       1             2  Month-to-month   \n",
              "1  5575-GNVDE    Male              0      34             4        One year   \n",
              "2  3668-QPYBK    Male              0       2             4  Month-to-month   \n",
              "3  7795-CFOCW    Male              0      45             4        One year   \n",
              "4  9237-HQITU  Female              0       2             2  Month-to-month   \n",
              "\n",
              "  PaperlessBilling  MonthlyCharges  TotalCharges Churn  \n",
              "0              Yes           29.85         29.85    No  \n",
              "1               No           56.95       1889.50    No  \n",
              "2              Yes           53.85        108.15   Yes  \n",
              "3               No           42.30       1840.75    No  \n",
              "4              Yes           70.70        151.65   Yes  "
            ],
            "text/html": [
              "\n",
              "  <div id=\"df-ddfa02aa-b70a-49d7-8976-c54bd427a83a\">\n",
              "    <div class=\"colab-df-container\">\n",
              "      <div>\n",
              "<style scoped>\n",
              "    .dataframe tbody tr th:only-of-type {\n",
              "        vertical-align: middle;\n",
              "    }\n",
              "\n",
              "    .dataframe tbody tr th {\n",
              "        vertical-align: top;\n",
              "    }\n",
              "\n",
              "    .dataframe thead th {\n",
              "        text-align: right;\n",
              "    }\n",
              "</style>\n",
              "<table border=\"1\" class=\"dataframe\">\n",
              "  <thead>\n",
              "    <tr style=\"text-align: right;\">\n",
              "      <th></th>\n",
              "      <th>customerID</th>\n",
              "      <th>gender</th>\n",
              "      <th>SeniorCitizen</th>\n",
              "      <th>tenure</th>\n",
              "      <th>ServiceCount</th>\n",
              "      <th>Contract</th>\n",
              "      <th>PaperlessBilling</th>\n",
              "      <th>MonthlyCharges</th>\n",
              "      <th>TotalCharges</th>\n",
              "      <th>Churn</th>\n",
              "    </tr>\n",
              "  </thead>\n",
              "  <tbody>\n",
              "    <tr>\n",
              "      <th>0</th>\n",
              "      <td>7590-VHVEG</td>\n",
              "      <td>Female</td>\n",
              "      <td>0</td>\n",
              "      <td>1</td>\n",
              "      <td>2</td>\n",
              "      <td>Month-to-month</td>\n",
              "      <td>Yes</td>\n",
              "      <td>29.85</td>\n",
              "      <td>29.85</td>\n",
              "      <td>No</td>\n",
              "    </tr>\n",
              "    <tr>\n",
              "      <th>1</th>\n",
              "      <td>5575-GNVDE</td>\n",
              "      <td>Male</td>\n",
              "      <td>0</td>\n",
              "      <td>34</td>\n",
              "      <td>4</td>\n",
              "      <td>One year</td>\n",
              "      <td>No</td>\n",
              "      <td>56.95</td>\n",
              "      <td>1889.50</td>\n",
              "      <td>No</td>\n",
              "    </tr>\n",
              "    <tr>\n",
              "      <th>2</th>\n",
              "      <td>3668-QPYBK</td>\n",
              "      <td>Male</td>\n",
              "      <td>0</td>\n",
              "      <td>2</td>\n",
              "      <td>4</td>\n",
              "      <td>Month-to-month</td>\n",
              "      <td>Yes</td>\n",
              "      <td>53.85</td>\n",
              "      <td>108.15</td>\n",
              "      <td>Yes</td>\n",
              "    </tr>\n",
              "    <tr>\n",
              "      <th>3</th>\n",
              "      <td>7795-CFOCW</td>\n",
              "      <td>Male</td>\n",
              "      <td>0</td>\n",
              "      <td>45</td>\n",
              "      <td>4</td>\n",
              "      <td>One year</td>\n",
              "      <td>No</td>\n",
              "      <td>42.30</td>\n",
              "      <td>1840.75</td>\n",
              "      <td>No</td>\n",
              "    </tr>\n",
              "    <tr>\n",
              "      <th>4</th>\n",
              "      <td>9237-HQITU</td>\n",
              "      <td>Female</td>\n",
              "      <td>0</td>\n",
              "      <td>2</td>\n",
              "      <td>2</td>\n",
              "      <td>Month-to-month</td>\n",
              "      <td>Yes</td>\n",
              "      <td>70.70</td>\n",
              "      <td>151.65</td>\n",
              "      <td>Yes</td>\n",
              "    </tr>\n",
              "  </tbody>\n",
              "</table>\n",
              "</div>\n",
              "      <button class=\"colab-df-convert\" onclick=\"convertToInteractive('df-ddfa02aa-b70a-49d7-8976-c54bd427a83a')\"\n",
              "              title=\"Convert this dataframe to an interactive table.\"\n",
              "              style=\"display:none;\">\n",
              "        \n",
              "  <svg xmlns=\"http://www.w3.org/2000/svg\" height=\"24px\"viewBox=\"0 0 24 24\"\n",
              "       width=\"24px\">\n",
              "    <path d=\"M0 0h24v24H0V0z\" fill=\"none\"/>\n",
              "    <path d=\"M18.56 5.44l.94 2.06.94-2.06 2.06-.94-2.06-.94-.94-2.06-.94 2.06-2.06.94zm-11 1L8.5 8.5l.94-2.06 2.06-.94-2.06-.94L8.5 2.5l-.94 2.06-2.06.94zm10 10l.94 2.06.94-2.06 2.06-.94-2.06-.94-.94-2.06-.94 2.06-2.06.94z\"/><path d=\"M17.41 7.96l-1.37-1.37c-.4-.4-.92-.59-1.43-.59-.52 0-1.04.2-1.43.59L10.3 9.45l-7.72 7.72c-.78.78-.78 2.05 0 2.83L4 21.41c.39.39.9.59 1.41.59.51 0 1.02-.2 1.41-.59l7.78-7.78 2.81-2.81c.8-.78.8-2.07 0-2.86zM5.41 20L4 18.59l7.72-7.72 1.47 1.35L5.41 20z\"/>\n",
              "  </svg>\n",
              "      </button>\n",
              "      \n",
              "  <style>\n",
              "    .colab-df-container {\n",
              "      display:flex;\n",
              "      flex-wrap:wrap;\n",
              "      gap: 12px;\n",
              "    }\n",
              "\n",
              "    .colab-df-convert {\n",
              "      background-color: #E8F0FE;\n",
              "      border: none;\n",
              "      border-radius: 50%;\n",
              "      cursor: pointer;\n",
              "      display: none;\n",
              "      fill: #1967D2;\n",
              "      height: 32px;\n",
              "      padding: 0 0 0 0;\n",
              "      width: 32px;\n",
              "    }\n",
              "\n",
              "    .colab-df-convert:hover {\n",
              "      background-color: #E2EBFA;\n",
              "      box-shadow: 0px 1px 2px rgba(60, 64, 67, 0.3), 0px 1px 3px 1px rgba(60, 64, 67, 0.15);\n",
              "      fill: #174EA6;\n",
              "    }\n",
              "\n",
              "    [theme=dark] .colab-df-convert {\n",
              "      background-color: #3B4455;\n",
              "      fill: #D2E3FC;\n",
              "    }\n",
              "\n",
              "    [theme=dark] .colab-df-convert:hover {\n",
              "      background-color: #434B5C;\n",
              "      box-shadow: 0px 1px 3px 1px rgba(0, 0, 0, 0.15);\n",
              "      filter: drop-shadow(0px 1px 2px rgba(0, 0, 0, 0.3));\n",
              "      fill: #FFFFFF;\n",
              "    }\n",
              "  </style>\n",
              "\n",
              "      <script>\n",
              "        const buttonEl =\n",
              "          document.querySelector('#df-ddfa02aa-b70a-49d7-8976-c54bd427a83a button.colab-df-convert');\n",
              "        buttonEl.style.display =\n",
              "          google.colab.kernel.accessAllowed ? 'block' : 'none';\n",
              "\n",
              "        async function convertToInteractive(key) {\n",
              "          const element = document.querySelector('#df-ddfa02aa-b70a-49d7-8976-c54bd427a83a');\n",
              "          const dataTable =\n",
              "            await google.colab.kernel.invokeFunction('convertToInteractive',\n",
              "                                                     [key], {});\n",
              "          if (!dataTable) return;\n",
              "\n",
              "          const docLinkHtml = 'Like what you see? Visit the ' +\n",
              "            '<a target=\"_blank\" href=https://colab.research.google.com/notebooks/data_table.ipynb>data table notebook</a>'\n",
              "            + ' to learn more about interactive tables.';\n",
              "          element.innerHTML = '';\n",
              "          dataTable['output_type'] = 'display_data';\n",
              "          await google.colab.output.renderOutput(dataTable, element);\n",
              "          const docLink = document.createElement('div');\n",
              "          docLink.innerHTML = docLinkHtml;\n",
              "          element.appendChild(docLink);\n",
              "        }\n",
              "      </script>\n",
              "    </div>\n",
              "  </div>\n",
              "  "
            ]
          },
          "metadata": {},
          "execution_count": 48
        }
      ]
    },
    {
      "cell_type": "markdown",
      "source": [
        "Here we will check importance of categorical columns -'gender','contract','paperlessBilling' which have impact on target column - 'churn'."
      ],
      "metadata": {
        "id": "n3tgtUWD2J5k"
      }
    },
    {
      "cell_type": "markdown",
      "source": [
        "Lets look at correlation between all the numerical variables using pearson's correlation"
      ],
      "metadata": {
        "id": "ib5usgOu2mAe"
      }
    },
    {
      "cell_type": "code",
      "source": [
        "# For correlation between all the numerical variables\n",
        "churn_data.corr()"
      ],
      "metadata": {
        "colab": {
          "base_uri": "https://localhost:8080/",
          "height": 206
        },
        "id": "Zs3Hxppw81OH",
        "outputId": "336e458b-7f3d-4888-a4bf-64e258e00c78"
      },
      "execution_count": 49,
      "outputs": [
        {
          "output_type": "execute_result",
          "data": {
            "text/plain": [
              "                SeniorCitizen    tenure  ServiceCount  MonthlyCharges  \\\n",
              "SeniorCitizen        1.000000  0.016567     -0.090899        0.220173   \n",
              "tenure               0.016567  1.000000      0.508526        0.247900   \n",
              "ServiceCount        -0.090899  0.508526      1.000000        0.041463   \n",
              "MonthlyCharges       0.220173  0.247900      0.041463        1.000000   \n",
              "TotalCharges         0.100795  0.826066      0.443768        0.650964   \n",
              "\n",
              "                TotalCharges  \n",
              "SeniorCitizen       0.100795  \n",
              "tenure              0.826066  \n",
              "ServiceCount        0.443768  \n",
              "MonthlyCharges      0.650964  \n",
              "TotalCharges        1.000000  "
            ],
            "text/html": [
              "\n",
              "  <div id=\"df-edd4d11f-fc3b-418b-9c92-5e4f279fea85\">\n",
              "    <div class=\"colab-df-container\">\n",
              "      <div>\n",
              "<style scoped>\n",
              "    .dataframe tbody tr th:only-of-type {\n",
              "        vertical-align: middle;\n",
              "    }\n",
              "\n",
              "    .dataframe tbody tr th {\n",
              "        vertical-align: top;\n",
              "    }\n",
              "\n",
              "    .dataframe thead th {\n",
              "        text-align: right;\n",
              "    }\n",
              "</style>\n",
              "<table border=\"1\" class=\"dataframe\">\n",
              "  <thead>\n",
              "    <tr style=\"text-align: right;\">\n",
              "      <th></th>\n",
              "      <th>SeniorCitizen</th>\n",
              "      <th>tenure</th>\n",
              "      <th>ServiceCount</th>\n",
              "      <th>MonthlyCharges</th>\n",
              "      <th>TotalCharges</th>\n",
              "    </tr>\n",
              "  </thead>\n",
              "  <tbody>\n",
              "    <tr>\n",
              "      <th>SeniorCitizen</th>\n",
              "      <td>1.000000</td>\n",
              "      <td>0.016567</td>\n",
              "      <td>-0.090899</td>\n",
              "      <td>0.220173</td>\n",
              "      <td>0.100795</td>\n",
              "    </tr>\n",
              "    <tr>\n",
              "      <th>tenure</th>\n",
              "      <td>0.016567</td>\n",
              "      <td>1.000000</td>\n",
              "      <td>0.508526</td>\n",
              "      <td>0.247900</td>\n",
              "      <td>0.826066</td>\n",
              "    </tr>\n",
              "    <tr>\n",
              "      <th>ServiceCount</th>\n",
              "      <td>-0.090899</td>\n",
              "      <td>0.508526</td>\n",
              "      <td>1.000000</td>\n",
              "      <td>0.041463</td>\n",
              "      <td>0.443768</td>\n",
              "    </tr>\n",
              "    <tr>\n",
              "      <th>MonthlyCharges</th>\n",
              "      <td>0.220173</td>\n",
              "      <td>0.247900</td>\n",
              "      <td>0.041463</td>\n",
              "      <td>1.000000</td>\n",
              "      <td>0.650964</td>\n",
              "    </tr>\n",
              "    <tr>\n",
              "      <th>TotalCharges</th>\n",
              "      <td>0.100795</td>\n",
              "      <td>0.826066</td>\n",
              "      <td>0.443768</td>\n",
              "      <td>0.650964</td>\n",
              "      <td>1.000000</td>\n",
              "    </tr>\n",
              "  </tbody>\n",
              "</table>\n",
              "</div>\n",
              "      <button class=\"colab-df-convert\" onclick=\"convertToInteractive('df-edd4d11f-fc3b-418b-9c92-5e4f279fea85')\"\n",
              "              title=\"Convert this dataframe to an interactive table.\"\n",
              "              style=\"display:none;\">\n",
              "        \n",
              "  <svg xmlns=\"http://www.w3.org/2000/svg\" height=\"24px\"viewBox=\"0 0 24 24\"\n",
              "       width=\"24px\">\n",
              "    <path d=\"M0 0h24v24H0V0z\" fill=\"none\"/>\n",
              "    <path d=\"M18.56 5.44l.94 2.06.94-2.06 2.06-.94-2.06-.94-.94-2.06-.94 2.06-2.06.94zm-11 1L8.5 8.5l.94-2.06 2.06-.94-2.06-.94L8.5 2.5l-.94 2.06-2.06.94zm10 10l.94 2.06.94-2.06 2.06-.94-2.06-.94-.94-2.06-.94 2.06-2.06.94z\"/><path d=\"M17.41 7.96l-1.37-1.37c-.4-.4-.92-.59-1.43-.59-.52 0-1.04.2-1.43.59L10.3 9.45l-7.72 7.72c-.78.78-.78 2.05 0 2.83L4 21.41c.39.39.9.59 1.41.59.51 0 1.02-.2 1.41-.59l7.78-7.78 2.81-2.81c.8-.78.8-2.07 0-2.86zM5.41 20L4 18.59l7.72-7.72 1.47 1.35L5.41 20z\"/>\n",
              "  </svg>\n",
              "      </button>\n",
              "      \n",
              "  <style>\n",
              "    .colab-df-container {\n",
              "      display:flex;\n",
              "      flex-wrap:wrap;\n",
              "      gap: 12px;\n",
              "    }\n",
              "\n",
              "    .colab-df-convert {\n",
              "      background-color: #E8F0FE;\n",
              "      border: none;\n",
              "      border-radius: 50%;\n",
              "      cursor: pointer;\n",
              "      display: none;\n",
              "      fill: #1967D2;\n",
              "      height: 32px;\n",
              "      padding: 0 0 0 0;\n",
              "      width: 32px;\n",
              "    }\n",
              "\n",
              "    .colab-df-convert:hover {\n",
              "      background-color: #E2EBFA;\n",
              "      box-shadow: 0px 1px 2px rgba(60, 64, 67, 0.3), 0px 1px 3px 1px rgba(60, 64, 67, 0.15);\n",
              "      fill: #174EA6;\n",
              "    }\n",
              "\n",
              "    [theme=dark] .colab-df-convert {\n",
              "      background-color: #3B4455;\n",
              "      fill: #D2E3FC;\n",
              "    }\n",
              "\n",
              "    [theme=dark] .colab-df-convert:hover {\n",
              "      background-color: #434B5C;\n",
              "      box-shadow: 0px 1px 3px 1px rgba(0, 0, 0, 0.15);\n",
              "      filter: drop-shadow(0px 1px 2px rgba(0, 0, 0, 0.3));\n",
              "      fill: #FFFFFF;\n",
              "    }\n",
              "  </style>\n",
              "\n",
              "      <script>\n",
              "        const buttonEl =\n",
              "          document.querySelector('#df-edd4d11f-fc3b-418b-9c92-5e4f279fea85 button.colab-df-convert');\n",
              "        buttonEl.style.display =\n",
              "          google.colab.kernel.accessAllowed ? 'block' : 'none';\n",
              "\n",
              "        async function convertToInteractive(key) {\n",
              "          const element = document.querySelector('#df-edd4d11f-fc3b-418b-9c92-5e4f279fea85');\n",
              "          const dataTable =\n",
              "            await google.colab.kernel.invokeFunction('convertToInteractive',\n",
              "                                                     [key], {});\n",
              "          if (!dataTable) return;\n",
              "\n",
              "          const docLinkHtml = 'Like what you see? Visit the ' +\n",
              "            '<a target=\"_blank\" href=https://colab.research.google.com/notebooks/data_table.ipynb>data table notebook</a>'\n",
              "            + ' to learn more about interactive tables.';\n",
              "          element.innerHTML = '';\n",
              "          dataTable['output_type'] = 'display_data';\n",
              "          await google.colab.output.renderOutput(dataTable, element);\n",
              "          const docLink = document.createElement('div');\n",
              "          docLink.innerHTML = docLinkHtml;\n",
              "          element.appendChild(docLink);\n",
              "        }\n",
              "      </script>\n",
              "    </div>\n",
              "  </div>\n",
              "  "
            ]
          },
          "metadata": {},
          "execution_count": 49
        }
      ]
    },
    {
      "cell_type": "markdown",
      "source": [
        "##**Importance of Contract column to predict Churn column**"
      ],
      "metadata": {
        "id": "j12yaipRid7o"
      }
    },
    {
      "cell_type": "markdown",
      "source": [
        "Now, for categorical columns, lets use Cramers test. We first get statistical significance of relationship between contract column and churn column. Then we from this we will find the strength of this particular correlation. (cramers V test tells us hoe strong is the correlation between the two categorical variables.)"
      ],
      "metadata": {
        "id": "40zXiwlv3SNn"
      }
    },
    {
      "cell_type": "code",
      "source": [
        "churn_data['Contract'].value_counts()"
      ],
      "metadata": {
        "colab": {
          "base_uri": "https://localhost:8080/"
        },
        "id": "8m86NgLi2j7h",
        "outputId": "27f303db-0484-4226-d4bd-7778fae1a1b8"
      },
      "execution_count": 50,
      "outputs": [
        {
          "output_type": "execute_result",
          "data": {
            "text/plain": [
              "Month-to-month    3875\n",
              "Two year          1695\n",
              "One year          1473\n",
              "Name: Contract, dtype: int64"
            ]
          },
          "metadata": {},
          "execution_count": 50
        }
      ]
    },
    {
      "cell_type": "code",
      "source": [
        "# Draw a nested barplot by species and sex\n",
        "g = sns.countplot(\n",
        "    data=churn_data,\n",
        "    x=\"Contract\", hue=\"Churn\", palette=\"dark\", alpha=.6\n",
        ")"
      ],
      "metadata": {
        "colab": {
          "base_uri": "https://localhost:8080/",
          "height": 279
        },
        "id": "BvyhR32R4Hcx",
        "outputId": "e152a58a-c5e3-4e3e-e6b2-b0a73d46d547"
      },
      "execution_count": 51,
      "outputs": [
        {
          "output_type": "display_data",
          "data": {
            "text/plain": [
              "<Figure size 432x288 with 1 Axes>"
            ],
            "image/png": "[encoded data removed]"
          },
          "metadata": {
            "needs_background": "light"
          }
        }
      ]
    },
    {
      "cell_type": "markdown",
      "source": [
        "Visually we can see that there is different count for Churn count according to different categories of contract. So, while predicting if customer has churned, contract should column play an important role."
      ],
      "metadata": {
        "id": "KHz-baxm51G8"
      }
    },
    {
      "cell_type": "markdown",
      "source": [
        "1. customers who bought Month on month contract have churned more. \n",
        "2. People who bought one year contract have chunred less. \n",
        "3. People who bought two year contracts have churned even lesser."
      ],
      "metadata": {
        "id": "JwDLTKUE7ll7"
      }
    },
    {
      "cell_type": "markdown",
      "source": [
        "**chi-square statistic.**\n",
        "X^2=sum((Observed-Expected)^2/Expected)\n",
        "\n",
        "**Cramers V test**\n",
        "V=SQRT(chi2/(n*(min(C,R)-1))"
      ],
      "metadata": {
        "id": "UBsVejT78A19"
      }
    },
    {
      "cell_type": "code",
      "source": [
        "cross_tab_contract_churn=pd.crosstab(columns=churn_data['Contract'],index=churn_data['Churn'])"
      ],
      "metadata": {
        "id": "2p8H7LhV4vi2"
      },
      "execution_count": 52,
      "outputs": []
    },
    {
      "cell_type": "code",
      "source": [
        "# This is a contengency table. This table is used to summarize the categorical columns in a dataset.\n",
        "cross_tab_contract_churn\n",
        "# input to chi-square test is a contingency table."
      ],
      "metadata": {
        "colab": {
          "base_uri": "https://localhost:8080/",
          "height": 143
        },
        "id": "dn4aUID19D_2",
        "outputId": "24cf24bb-7343-466b-f0d8-f0e265e061ba"
      },
      "execution_count": 53,
      "outputs": [
        {
          "output_type": "execute_result",
          "data": {
            "text/plain": [
              "Contract  Month-to-month  One year  Two year\n",
              "Churn                                       \n",
              "No                  2220      1307      1647\n",
              "Yes                 1655       166        48"
            ],
            "text/html": [
              "\n",
              "  <div id=\"df-e4a5344b-a5e8-4c69-aafb-449eec204021\">\n",
              "    <div class=\"colab-df-container\">\n",
              "      <div>\n",
              "<style scoped>\n",
              "    .dataframe tbody tr th:only-of-type {\n",
              "        vertical-align: middle;\n",
              "    }\n",
              "\n",
              "    .dataframe tbody tr th {\n",
              "        vertical-align: top;\n",
              "    }\n",
              "\n",
              "    .dataframe thead th {\n",
              "        text-align: right;\n",
              "    }\n",
              "</style>\n",
              "<table border=\"1\" class=\"dataframe\">\n",
              "  <thead>\n",
              "    <tr style=\"text-align: right;\">\n",
              "      <th>Contract</th>\n",
              "      <th>Month-to-month</th>\n",
              "      <th>One year</th>\n",
              "      <th>Two year</th>\n",
              "    </tr>\n",
              "    <tr>\n",
              "      <th>Churn</th>\n",
              "      <th></th>\n",
              "      <th></th>\n",
              "      <th></th>\n",
              "    </tr>\n",
              "  </thead>\n",
              "  <tbody>\n",
              "    <tr>\n",
              "      <th>No</th>\n",
              "      <td>2220</td>\n",
              "      <td>1307</td>\n",
              "      <td>1647</td>\n",
              "    </tr>\n",
              "    <tr>\n",
              "      <th>Yes</th>\n",
              "      <td>1655</td>\n",
              "      <td>166</td>\n",
              "      <td>48</td>\n",
              "    </tr>\n",
              "  </tbody>\n",
              "</table>\n",
              "</div>\n",
              "      <button class=\"colab-df-convert\" onclick=\"convertToInteractive('df-e4a5344b-a5e8-4c69-aafb-449eec204021')\"\n",
              "              title=\"Convert this dataframe to an interactive table.\"\n",
              "              style=\"display:none;\">\n",
              "        \n",
              "  <svg xmlns=\"http://www.w3.org/2000/svg\" height=\"24px\"viewBox=\"0 0 24 24\"\n",
              "       width=\"24px\">\n",
              "    <path d=\"M0 0h24v24H0V0z\" fill=\"none\"/>\n",
              "    <path d=\"M18.56 5.44l.94 2.06.94-2.06 2.06-.94-2.06-.94-.94-2.06-.94 2.06-2.06.94zm-11 1L8.5 8.5l.94-2.06 2.06-.94-2.06-.94L8.5 2.5l-.94 2.06-2.06.94zm10 10l.94 2.06.94-2.06 2.06-.94-2.06-.94-.94-2.06-.94 2.06-2.06.94z\"/><path d=\"M17.41 7.96l-1.37-1.37c-.4-.4-.92-.59-1.43-.59-.52 0-1.04.2-1.43.59L10.3 9.45l-7.72 7.72c-.78.78-.78 2.05 0 2.83L4 21.41c.39.39.9.59 1.41.59.51 0 1.02-.2 1.41-.59l7.78-7.78 2.81-2.81c.8-.78.8-2.07 0-2.86zM5.41 20L4 18.59l7.72-7.72 1.47 1.35L5.41 20z\"/>\n",
              "  </svg>\n",
              "      </button>\n",
              "      \n",
              "  <style>\n",
              "    .colab-df-container {\n",
              "      display:flex;\n",
              "      flex-wrap:wrap;\n",
              "      gap: 12px;\n",
              "    }\n",
              "\n",
              "    .colab-df-convert {\n",
              "      background-color: #E8F0FE;\n",
              "      border: none;\n",
              "      border-radius: 50%;\n",
              "      cursor: pointer;\n",
              "      display: none;\n",
              "      fill: #1967D2;\n",
              "      height: 32px;\n",
              "      padding: 0 0 0 0;\n",
              "      width: 32px;\n",
              "    }\n",
              "\n",
              "    .colab-df-convert:hover {\n",
              "      background-color: #E2EBFA;\n",
              "      box-shadow: 0px 1px 2px rgba(60, 64, 67, 0.3), 0px 1px 3px 1px rgba(60, 64, 67, 0.15);\n",
              "      fill: #174EA6;\n",
              "    }\n",
              "\n",
              "    [theme=dark] .colab-df-convert {\n",
              "      background-color: #3B4455;\n",
              "      fill: #D2E3FC;\n",
              "    }\n",
              "\n",
              "    [theme=dark] .colab-df-convert:hover {\n",
              "      background-color: #434B5C;\n",
              "      box-shadow: 0px 1px 3px 1px rgba(0, 0, 0, 0.15);\n",
              "      filter: drop-shadow(0px 1px 2px rgba(0, 0, 0, 0.3));\n",
              "      fill: #FFFFFF;\n",
              "    }\n",
              "  </style>\n",
              "\n",
              "      <script>\n",
              "        const buttonEl =\n",
              "          document.querySelector('#df-e4a5344b-a5e8-4c69-aafb-449eec204021 button.colab-df-convert');\n",
              "        buttonEl.style.display =\n",
              "          google.colab.kernel.accessAllowed ? 'block' : 'none';\n",
              "\n",
              "        async function convertToInteractive(key) {\n",
              "          const element = document.querySelector('#df-e4a5344b-a5e8-4c69-aafb-449eec204021');\n",
              "          const dataTable =\n",
              "            await google.colab.kernel.invokeFunction('convertToInteractive',\n",
              "                                                     [key], {});\n",
              "          if (!dataTable) return;\n",
              "\n",
              "          const docLinkHtml = 'Like what you see? Visit the ' +\n",
              "            '<a target=\"_blank\" href=https://colab.research.google.com/notebooks/data_table.ipynb>data table notebook</a>'\n",
              "            + ' to learn more about interactive tables.';\n",
              "          element.innerHTML = '';\n",
              "          dataTable['output_type'] = 'display_data';\n",
              "          await google.colab.output.renderOutput(dataTable, element);\n",
              "          const docLink = document.createElement('div');\n",
              "          docLink.innerHTML = docLinkHtml;\n",
              "          element.appendChild(docLink);\n",
              "        }\n",
              "      </script>\n",
              "    </div>\n",
              "  </div>\n",
              "  "
            ]
          },
          "metadata": {},
          "execution_count": 53
        }
      ]
    },
    {
      "cell_type": "code",
      "source": [
        "from scipy import stats\n",
        "(chi2,p,dof,_)=stats.chi2_contingency([cross_tab_contract_churn.iloc[0].values,cross_tab_contract_churn.iloc[1].values])"
      ],
      "metadata": {
        "id": "6l5gG8JDFiIt"
      },
      "execution_count": 54,
      "outputs": []
    },
    {
      "cell_type": "code",
      "source": [
        "print(chi2)\n",
        "print(p)"
      ],
      "metadata": {
        "colab": {
          "base_uri": "https://localhost:8080/"
        },
        "id": "4BpSrYSuG0Xp",
        "outputId": "efd2c53f-0b78-4f5a-d265-4782b894d9b9"
      },
      "execution_count": 55,
      "outputs": [
        {
          "output_type": "stream",
          "name": "stdout",
          "text": [
            "1184.5965720837926\n",
            "5.863038300673391e-258\n"
          ]
        }
      ]
    },
    {
      "cell_type": "markdown",
      "source": [
        "This 1184.59 value cannot be compares to a standard value to get relative idea about the strength of relationship between 2 categorical columns. Hence we go for Cramers V test. Here we get the strength of relationship value within a standard scale, which can be compared easily with other cramers values for other columns. Cramers V value is always in the scale of 0 to 1."
      ],
      "metadata": {
        "id": "DotyJ0I6Tm1V"
      }
    },
    {
      "cell_type": "markdown",
      "source": [
        "p value is way less than 0.05. Hence this is an important column. ***(Apha value is 0.05 i.e.We can tolerate 5 errors in 100 values. Here we are getting p value as 5.86e-256 eoors in 100 values.)*** Hence this column is important."
      ],
      "metadata": {
        "id": "ogrOe7iYG8GQ"
      }
    },
    {
      "cell_type": "markdown",
      "source": [
        "**Lets confirm this using Cramers V test.**\n",
        "\n",
        "\n",
        "**Cramers V test**\n",
        "V=SQRT(chi2/(n*(min(C,R)-1))"
      ],
      "metadata": {
        "id": "1ixVl_qdHC1Y"
      }
    },
    {
      "cell_type": "code",
      "source": [
        "import numpy as np"
      ],
      "metadata": {
        "id": "QTs4zoxrIDGz"
      },
      "execution_count": 56,
      "outputs": []
    },
    {
      "cell_type": "code",
      "source": [
        "# n is number of samples we have\n",
        "n=churn_data.shape[0]\n",
        "min=min(2,3)"
      ],
      "metadata": {
        "id": "UGLsr5HpTlBo"
      },
      "execution_count": 57,
      "outputs": []
    },
    {
      "cell_type": "code",
      "source": [
        "# input to cramers test is chi2 value\n",
        "cramer_V=np.sqrt(chi2/n*(min-1))"
      ],
      "metadata": {
        "id": "gcjaVd2_S9Th"
      },
      "execution_count": 60,
      "outputs": []
    },
    {
      "cell_type": "code",
      "source": [
        "# value will lie in scale of 0 to 1\n",
        "print(cramer_V)"
      ],
      "metadata": {
        "colab": {
          "base_uri": "https://localhost:8080/"
        },
        "id": "w8-xEzQiUtxH",
        "outputId": "13ae41c2-2000-437f-8054-87d2fd6dd060"
      },
      "execution_count": 64,
      "outputs": [
        {
          "output_type": "stream",
          "name": "stdout",
          "text": [
            "0.4101156965761409\n"
          ]
        }
      ]
    },
    {
      "cell_type": "markdown",
      "source": [
        "**cramer_V value being between 0 and 1, makes it easy to do comparitive study**. If the number is near 1, strength of relationship is more. And if the number is closer to 0, strength of relationship is less.\n",
        "\n",
        "0.41 is a descent level of correlation between two categorical columns.\n",
        "**Hence contract column is important for predicting churn.**"
      ],
      "metadata": {
        "id": "q3m3m5sKhLjj"
      }
    },
    {
      "cell_type": "markdown",
      "source": [
        "##**Importance of gender column to predict Churn column**"
      ],
      "metadata": {
        "id": "sN_ry7KFioS1"
      }
    },
    {
      "cell_type": "code",
      "source": [
        "cross_tab_gender_churn=pd.crosstab(columns=churn_data['gender'],index=churn_data['Churn'])"
      ],
      "metadata": {
        "id": "J54Fa98OipFD"
      },
      "execution_count": 71,
      "outputs": []
    },
    {
      "cell_type": "code",
      "source": [
        "(chi2,p,dof,_)=stats.chi2_contingency([cross_tab_gender_churn.iloc[0].values,cross_tab_gender_churn.iloc[1].values])"
      ],
      "metadata": {
        "id": "TUw_or3CjfWM"
      },
      "execution_count": 72,
      "outputs": []
    },
    {
      "cell_type": "code",
      "source": [
        "# n is number of samples we have\n",
        "n=churn_data.shape[0]\n",
        "min=2"
      ],
      "metadata": {
        "id": "7X-pHydnjxhg"
      },
      "execution_count": 73,
      "outputs": []
    },
    {
      "cell_type": "code",
      "source": [
        "# input to cramers test is chi2 value\n",
        "cramer_V=np.sqrt(chi2/n*(min-1))"
      ],
      "metadata": {
        "id": "FeMJo5qVjztH"
      },
      "execution_count": 74,
      "outputs": []
    },
    {
      "cell_type": "code",
      "source": [
        "# value will lie in scale of 0 to 1\n",
        "print(cramer_V)"
      ],
      "metadata": {
        "colab": {
          "base_uri": "https://localhost:8080/"
        },
        "id": "eMM7HHA_j1gv",
        "outputId": "dc0a4f1a-f17c-455a-f0bf-c9f0d695fc9b"
      },
      "execution_count": 75,
      "outputs": [
        {
          "output_type": "stream",
          "name": "stdout",
          "text": [
            "0.008290505631771371\n"
          ]
        }
      ]
    },
    {
      "cell_type": "markdown",
      "source": [
        "0.0083 is a very bad level of correlation between two categorical columns.\n",
        "\n",
        "**Hence gender column is not important for predicting churn.**"
      ],
      "metadata": {
        "id": "nRuswgo_kL31"
      }
    },
    {
      "cell_type": "markdown",
      "source": [
        "##**Importance of PaperlessBilling column to predict Churn column**"
      ],
      "metadata": {
        "id": "v38mD39FklTj"
      }
    },
    {
      "cell_type": "code",
      "source": [
        "cross_tab_PaperlessBilling_churn=pd.crosstab(columns=churn_data['PaperlessBilling'],index=churn_data['Churn'])"
      ],
      "metadata": {
        "id": "eRQQDhtKkxBx"
      },
      "execution_count": 76,
      "outputs": []
    },
    {
      "cell_type": "code",
      "source": [
        "(chi2,p,dof,_)=stats.chi2_contingency([cross_tab_PaperlessBilling_churn.iloc[0].values,cross_tab_PaperlessBilling_churn.iloc[1].values])"
      ],
      "metadata": {
        "id": "TAoOlqIQkxBy"
      },
      "execution_count": 77,
      "outputs": []
    },
    {
      "cell_type": "code",
      "source": [
        "# n is number of samples we have\n",
        "n=churn_data.shape[0]\n",
        "min=2"
      ],
      "metadata": {
        "id": "c5FPk_NMkxBy"
      },
      "execution_count": 78,
      "outputs": []
    },
    {
      "cell_type": "code",
      "source": [
        "# input to cramers test is chi2 value\n",
        "cramer_V=np.sqrt(chi2/n*(min-1))"
      ],
      "metadata": {
        "id": "Gh1MfCfSkxBz"
      },
      "execution_count": 79,
      "outputs": []
    },
    {
      "cell_type": "code",
      "source": [
        "# value will lie in scale of 0 to 1\n",
        "print(cramer_V)"
      ],
      "metadata": {
        "colab": {
          "base_uri": "https://localhost:8080/"
        },
        "outputId": "c9330036-95da-40d0-8cd3-39aed46b41bd",
        "id": "cvtFsI5ikxB0"
      },
      "execution_count": 80,
      "outputs": [
        {
          "output_type": "stream",
          "name": "stdout",
          "text": [
            "0.19149814355338285\n"
          ]
        }
      ]
    },
    {
      "cell_type": "markdown",
      "source": [
        "0.19 is a somewhat descent level of correlation between two categorical columns.\n",
        "**Hence contract column is somewhat important for predicting churn.**"
      ],
      "metadata": {
        "id": "XnmXXmRnlDDH"
      }
    },
    {
      "cell_type": "markdown",
      "source": [
        "**What is the difference between chi2 statstic and cramers's V test**\n",
        "1. Chi2 test gave significance of realtionship and was hard to interprete. Cramers test gives strength of relationship.\n",
        "2. chi2 and cramers test are similar to covariance and correlation. Covaiance shoes the direction but not the strength. Where as correlation shows the strength of relationship between two continuous columns."
      ],
      "metadata": {
        "id": "nQ47Q2of9trV"
      }
    },
    {
      "cell_type": "markdown",
      "source": [
        "**chi-square statistic.**\n",
        "X^2=sum((Observed-Expected)^2/Expected)\n",
        "\n",
        "**Cramers V test**\n",
        "V=SQRT(chi2/(n*(min(C,R)-1))\n",
        "\n",
        "**Major difference -**We can see that in chi-square test, if number of categories is large, X^2 value will go on increasing. Where as in Cramers V test, even if number of categories is large, it is normalized, this mkaes it suitable even for large number of categories. So, in Cramers V test, we always get value between 0 and 1 , which shows strength of relationship between two categorical columns."
      ],
      "metadata": {
        "id": "EBPYpw8VFDRV"
      }
    },
    {
      "cell_type": "markdown",
      "source": [
        "**Cramers_V** is very similar to the**Person's correlation coefficient.**"
      ],
      "metadata": {
        "id": "nMm5_CYpnfFE"
      }
    },
    {
      "cell_type": "code",
      "source": [
        ""
      ],
      "metadata": {
        "id": "4LpmcMclnnU0"
      },
      "execution_count": null,
      "outputs": []
    }
  ]
}